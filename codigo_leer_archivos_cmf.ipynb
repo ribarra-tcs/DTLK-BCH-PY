{
 "cells": [
  {
   "cell_type": "code",
   "execution_count": 1,
   "metadata": {},
   "outputs": [],
   "source": [
    "import pandas as pd\n",
    "from datetime import datetime\n",
    "import numpy as np\n",
    "import os"
   ]
  },
  {
   "cell_type": "code",
   "execution_count": 8,
   "metadata": {},
   "outputs": [],
   "source": [
    "#Leer archivos CMF y crear Interfaces de entrada para datalake\n",
    "import pandas as pd\n",
    "from datetime import datetime\n",
    "import numpy as np\n",
    "import os\n",
    "input_dir=\"inputExcels/\"\n",
    "for dir,d,filename in os.walk(input_dir):\n",
    "    for file in filename :\n",
    "        items_in_dir=file\n",
    "        xl = pd.ExcelFile(dir+file)\n",
    "        SISTEMA=file.split(\".\")[0].split(\"_\")[1]\n",
    "        D_YYYY=file.split(\".\")[0].split(\"_\")[0][0:4]\n",
    "        D_MM=file.split(\".\")[0].split(\"_\")[0][4:6]\n",
    "        sheetnames=xl.sheet_names  # see all sheet names\n",
    "        sheetneed=[x for x in sheetnames if x.startswith('Activos')]\n",
    "        generation_date_time=str(datetime.now())\n",
    "        P_YYYY=generation_date_time.split(\" \")[0].split(\"-\")[0]\n",
    "        P_MMs=generation_date_time.split(\" \")[0].split(\"-\")[1]\n",
    "        P_DD=generation_date_time.split(\" \")[0].split(\"-\")[2]\n",
    "        P_HH=generation_date_time.split(\" \")[1].split(\".\")[0].split(\":\")[0]\n",
    "        P_MM=generation_date_time.split(\" \")[1].split(\".\")[0].split(\":\")[1]\n",
    "        for sheetname in sheetneed:\n",
    "            if sheetname == 'Activos Bancos 1':\n",
    "                df=xl.parse('Activos Bancos 1')\n",
    "                df1=df.set_index(df.columns[0],drop=True)\n",
    "                df1.dropna(axis=0,how=\"all\",inplace=True)\n",
    "                df1.dropna(axis=1,how=\"all\",inplace=True)\n",
    "                df1.reset_index(drop=False,inplace=True)\n",
    "                df1.columns=df1.iloc[0].tolist()\n",
    "                df1.drop(df1.index[0],axis=0,inplace=True)\n",
    "                df1.drop(df1.index[-1],axis=0,inplace=True)\n",
    "                Header=\"Header\"+\"||\"+SISTEMA+\"||\"+sheetname+\"||\"+D_YYYY+\\\n",
    "                D_MM+\"||\"+P_YYYY+P_MMs+\"||\"+P_HH+P_MM+\"||\"+str(len(df1))\n",
    "                np.savetxt('outputInterfaces/'+\"GDD_\"+SISTEMA+'_Activos_Bancos_1_'\\\n",
    "                           +D_YYYY+D_MM+'.dat', df1.values, delimiter='||', fmt='%s',\\\n",
    "                           encoding='utf-8',header=Header,comments=\"\")\n",
    "            if sheetname == 'Activos Bancos 2':\n",
    "                df=xl.parse('Activos Bancos 2')\n",
    "                df1=df.set_index(df.columns[0],drop=True)\n",
    "                df1.dropna(axis=0,how=\"all\",inplace=True)\n",
    "                df1.dropna(axis=1,how=\"all\",inplace=True)\n",
    "                df1.reset_index(drop=False,inplace=True)\n",
    "                df1.columns=df1.iloc[0].tolist()\n",
    "                df1.drop(df1.index[0:5],axis=0,inplace=True)\n",
    "                df1.drop(df1.index[-1],axis=0,inplace=True)\n",
    "                Header=\"Header\"+\"||\"+SISTEMA+\"||\"+sheetname+\"||\"+D_YYYY+\\\n",
    "                D_MM+\"||\"+P_YYYY+P_MMs+\"||\"+P_HH+P_MM+\"||\"+str(len(df1))\n",
    "                np.savetxt('outputInterfaces/'+\"GDD_\"+SISTEMA+'_Activos_Bancos_2_'\\\n",
    "                           +D_YYYY+D_MM+'.dat', df1.values, delimiter='||', fmt='%s',\\\n",
    "                           encoding='utf-8',header=Header,comments=\"\")"
   ]
  }
 ],
 "metadata": {
  "kernelspec": {
   "display_name": "Python 3",
   "language": "python",
   "name": "python3"
  },
  "language_info": {
   "codemirror_mode": {
    "name": "ipython",
    "version": 3
   },
   "file_extension": ".py",
   "mimetype": "text/x-python",
   "name": "python",
   "nbconvert_exporter": "python",
   "pygments_lexer": "ipython3",
   "version": "3.8.3"
  }
 },
 "nbformat": 4,
 "nbformat_minor": 2
}
